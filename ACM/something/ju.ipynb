{
 "metadata": {
  "language_info": {
   "codemirror_mode": {
    "name": "ipython",
    "version": 3
   },
   "file_extension": ".py",
   "mimetype": "text/x-python",
   "name": "python",
   "nbconvert_exporter": "python",
   "pygments_lexer": "ipython3",
   "version": "3.8.6-final"
  },
  "orig_nbformat": 2,
  "kernelspec": {
   "name": "Python 3.8.6 64-bit",
   "display_name": "Python 3.8.6 64-bit",
   "metadata": {
    "interpreter": {
     "hash": "4eaf1be304415beee96765ae99c3f893cc8312c7f1196698e6029668e9aeb3e5"
    }
   }
  }
 },
 "nbformat": 4,
 "nbformat_minor": 2,
 "cells": [
  {
   "cell_type": "code",
   "execution_count": 1,
   "metadata": {},
   "outputs": [
    {
     "output_type": "stream",
     "name": "stdout",
     "text": [
      "hhhhh\n"
     ]
    }
   ],
   "source": [
    "print('hhhhh')"
   ]
  },
  {
   "cell_type": "code",
   "execution_count": 3,
   "metadata": {},
   "outputs": [
    {
     "output_type": "stream",
     "name": "stdout",
     "text": [
      "name      Bob    Jake    Lisa     Sue\ngroup                                \nHR        NaN     NaN  2010.0     NaN\nMGR    2004.0     NaN     NaN     NaN\nR&D       NaN  2009.0     NaN  2013.0\nname      Bob    Jake    Lisa     Sue\ngroup                                \nHR        NaN     NaN  2010.0     NaN\nMGR    2004.0     NaN     NaN     NaN\nR&D       NaN  2009.0     NaN  2013.0\n"
     ]
    }
   ],
   "source": [
    "import pandas as pd\n",
    "import numpy as np\n",
    "\n",
    "df1 = pd.DataFrame({'name': ['Bob', 'Jake', 'Lisa', 'Sue'], 'group': ['MGR', 'R&D', 'HR', 'R&D']})\n",
    "df2 = pd.DataFrame({'name': ['Bob', 'Jake', 'Sue', 'Lisa'], 'hire_date': [2004, 2009, 2013, 2010], 'hire_date2': [2002, 2003, 2016, 2020]})\n",
    "df3 = pd.merge(df1, df2)\n",
    "print(df3.groupby(['group', 'name'])['hire_date'].mean().unstack())\n",
    "print(df3.pivot_table('hire_date', index='group', columns='name'))"
   ]
  },
  {
   "cell_type": "code",
   "execution_count": null,
   "metadata": {},
   "outputs": [],
   "source": []
  }
 ]
}