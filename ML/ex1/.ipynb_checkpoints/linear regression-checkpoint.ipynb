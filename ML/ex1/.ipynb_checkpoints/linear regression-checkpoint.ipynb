{
 "cells": [
  {
   "cell_type": "code",
   "execution_count": 1,
   "metadata": {
    "scrolled": true
   },
   "outputs": [
    {
     "name": "stdout",
     "output_type": "stream",
     "text": [
      "[[1. 0. 0. 0. 0.]\n",
      " [0. 1. 0. 0. 0.]\n",
      " [0. 0. 1. 0. 0.]\n",
      " [0. 0. 0. 1. 0.]\n",
      " [0. 0. 0. 0. 1.]]\n"
     ]
    }
   ],
   "source": [
    "import numpy as np\n",
    "print(np.eye(5))"
   ]
  },
  {
   "cell_type": "markdown",
   "metadata": {},
   "source": [
    "一元线性回归（normal equation）"
   ]
  },
  {
   "cell_type": "code",
   "execution_count": 89,
   "metadata": {
    "scrolled": true
   },
   "outputs": [
    {
     "data": {
      "image/png": "[encoded data removed]",
      "text/plain": [
       "<Figure size 432x288 with 1 Axes>"
      ]
     },
     "metadata": {
      "needs_background": "light"
     },
     "output_type": "display_data"
    },
    {
     "name": "stdout",
     "output_type": "stream",
     "text": [
      "[[-3.89578088]\n",
      " [ 1.19303364]]\n"
     ]
    }
   ],
   "source": [
    "import numpy as np\n",
    "import pandas as pd\n",
    "import matplotlib.pyplot as plt\n",
    "\n",
    "def normal_equation(X, Y):\n",
    "    return np.linalg.inv(X.T@X)@X.T@Y\n",
    "\n",
    "path = 'ex1data1.txt'\n",
    "data = pd.read_csv(path, header = None, names = ['population', 'profit'])\n",
    "x = np.linspace(data['population'].min(), data['population'].max(), 2)\n",
    "X = np.insert(np.matrix(data.iloc[:, :-1]), 0, values=1, axis=1)\n",
    "Y = np.matrix(data.iloc[:, -1:])\n",
    "theta = normal_equation(X, Y)\n",
    "plt.scatter(data['population'], data['profit'])\n",
    "plt.plot(x, theta[0, 0]+x*theta[1, 0])\n",
    "plt.plot()\n",
    "plt.show()\n",
    "print(theta)"
   ]
  },
  {
   "cell_type": "code",
   "execution_count": null,
   "metadata": {},
   "outputs": [],
   "source": []
  },
  {
   "cell_type": "markdown",
   "metadata": {},
   "source": [
    "一元线性回归（gradient descent）"
   ]
  },
  {
   "cell_type": "code",
   "execution_count": 92,
   "metadata": {
    "scrolled": false
   },
   "outputs": [
    {
     "name": "stdout",
     "output_type": "stream",
     "text": [
      "[[-3.89578088  1.19303364]]\n"
     ]
    },
    {
     "data": {
      "image/png": "[encoded data removed]",
      "text/plain": [
       "<Figure size 432x288 with 1 Axes>"
      ]
     },
     "metadata": {
      "needs_background": "light"
     },
     "output_type": "display_data"
    }
   ],
   "source": [
    "import numpy as np\n",
    "import pandas as pd\n",
    "import matplotlib.pyplot as plt\n",
    "\n",
    "cost = []\n",
    "def cost_func(theta, X, Y):\n",
    "    return np.sum(np.power((X@theta.T-Y), 2))/(2*Y.shape[0])\n",
    "\n",
    "def grad_des(X, Y, theta, iters, alpha):\n",
    "    for i in range(iters):\n",
    "        Z  = X@theta.T-Y\n",
    "        for j in range(X.shape[1]):\n",
    "            buff = np.sum(np.multiply(Z, X[:, j]))\n",
    "            theta[0, j] = theta[0, j]-alpha*buff/X.shape[0]\n",
    "        cost.append(cost_func(theta, X, Y))\n",
    "    return theta\n",
    "    \n",
    "\n",
    "alpha = 0.001\n",
    "iters = 1000000\n",
    "path = 'ex1data1.txt'\n",
    "data = pd.read_csv(path, header = None, names = ['population', 'profit'])\n",
    "X = np.insert(np.matrix(data.iloc[:, :-1]), 0, values=1, axis=1)\n",
    "Y = np.matrix(data.iloc[:, -1:])\n",
    "theta = np.matrix(np.zeros(X.shape[1]))\n",
    "grad_des(X, Y, theta, iters, alpha)\n",
    "plt.plot(np.arange(iters), cost)\n",
    "print(theta)    "
   ]
  },
  {
   "cell_type": "markdown",
   "metadata": {},
   "source": [
    "多元线性回归（gradient descent）"
   ]
  },
  {
   "cell_type": "code",
   "execution_count": 12,
   "metadata": {
    "scrolled": false
   },
   "outputs": [
    {
     "name": "stdout",
     "output_type": "stream",
     "text": [
      "[[-1.10983917e-16  8.84764849e-01 -5.31776810e-02]]\n"
     ]
    },
    {
     "data": {
      "image/png": "[encoded data removed]",
      "text/plain": [
       "<Figure size 432x288 with 1 Axes>"
      ]
     },
     "metadata": {
      "needs_background": "light"
     },
     "output_type": "display_data"
    }
   ],
   "source": [
    "import numpy as np\n",
    "import pandas as pd\n",
    "import matplotlib.pyplot as plt\n",
    "\n",
    "cost = []\n",
    "def cost_func(theta, X, Y):\n",
    "    return np.sum(np.power((X@theta.T-Y), 2))/(2*Y.shape[0])\n",
    "\n",
    "def grad_des(X, Y, theta, iters, alpha):\n",
    "    for i in range(iters):\n",
    "        Z  = X@theta.T-Y\n",
    "        for j in range(X.shape[1]):\n",
    "            buff = np.sum(np.multiply(Z, X[:, j]))\n",
    "            theta[0, j] = theta[0, j]-alpha*buff/X.shape[0]\n",
    "        cost.append(cost_func(theta, X, Y))\n",
    "    return theta\n",
    "\n",
    "alpha = 0.003\n",
    "iters = 10000\n",
    "path = 'ex1data2.txt'\n",
    "data = pd.read_csv(path, header = None)\n",
    "data = (data-data.mean())/data.std()\n",
    "X = np.insert(np.matrix(data.iloc[:, :-1]), 0, values=1, axis=1)\n",
    "Y = np.matrix(data.iloc[:, data.shape[1]-1:data.shape[1]])\n",
    "theta = np.matrix(np.zeros(X.shape[1]))\n",
    "grad_des(X, Y, theta, iters, alpha)\n",
    "plt.plot(np.arange(iters), cost)\n",
    "print(theta)    "
   ]
  },
  {
   "cell_type": "markdown",
   "metadata": {},
   "source": [
    "# END"
   ]
  }
 ],
 "metadata": {
  "kernelspec": {
   "display_name": "Python 3",
   "language": "python",
   "name": "python3"
  },
  "language_info": {
   "codemirror_mode": {
    "name": "ipython",
    "version": 3
   },
   "file_extension": ".py",
   "mimetype": "text/x-python",
   "name": "python",
   "nbconvert_exporter": "python",
   "pygments_lexer": "ipython3",
   "version": "3.8.6"
  },
  "metadata": {
   "interpreter": {
    "hash": "4eaf1be304415beee96765ae99c3f893cc8312c7f1196698e6029668e9aeb3e5"
   }
  }
 },
 "nbformat": 4,
 "nbformat_minor": 4
}
